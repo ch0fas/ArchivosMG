{
 "cells": [
  {
   "cell_type": "markdown",
   "id": "206b2833",
   "metadata": {},
   "source": [
    "# Clase 25 - Python Driver\n",
    "### Sofía Maldonado García"
   ]
  },
  {
   "cell_type": "code",
   "execution_count": 17,
   "id": "39c7c241",
   "metadata": {},
   "outputs": [],
   "source": [
    "# Imports\n",
    "import pandas as pd\n",
    "\n",
    "from neo4j import GraphDatabase\n",
    "from graphdatascience import GraphDataScience"
   ]
  },
  {
   "cell_type": "code",
   "execution_count": null,
   "id": "c2d92eff",
   "metadata": {},
   "outputs": [],
   "source": []
  },
  {
   "cell_type": "code",
   "execution_count": 18,
   "id": "10c5bf80",
   "metadata": {},
   "outputs": [],
   "source": [
    "# Conexión\n",
    "uri = 'bolt://localhost:7687'\n",
    "user = 'neo4j' #Es el default\n",
    "password = 'chofas1973' #Depende de cada DBMS\n",
    "\n",
    "with GraphDatabase.driver(uri, auth=(user,password)) as driver:\n",
    "    driver.verify_connectivity()\n",
    "\n",
    "# Si el código ejecuta sin errores, significa que la conexión fue exitosa"
   ]
  },
  {
   "cell_type": "code",
   "execution_count": 27,
   "id": "68766e45",
   "metadata": {},
   "outputs": [
    {
     "name": "stdout",
     "output_type": "stream",
     "text": [
      "Nombres de Productos: \n",
      "\n",
      "Producto: Côte de Blaye \n",
      "Precio: $263.5\n",
      "Producto: Thüringer Rostbratwurst \n",
      "Precio: $123.79\n",
      "Producto: Mishi Kobe Niku \n",
      "Precio: $97.0\n",
      "Producto: Sir Rodney's Marmalade \n",
      "Precio: $81.0\n",
      "Producto: Carnarvon Tigers \n",
      "Precio: $62.5\n",
      "Producto: Raclette Courdavault \n",
      "Precio: $55.0\n",
      "Producto: Manjimup Dried Apples \n",
      "Precio: $53.0\n",
      "Producto: Tarte au sucre \n",
      "Precio: $49.3\n",
      "Producto: Ipoh Coffee \n",
      "Precio: $46.0\n",
      "Producto: Rössle Sauerkraut \n",
      "Precio: $45.6\n"
     ]
    },
    {
     "name": "stderr",
     "output_type": "stream",
     "text": [
      "C:\\Users\\pixta\\AppData\\Local\\Temp\\ipykernel_20952\\4027871894.py:13: DeprecationWarning: Using a driver after it has been closed is deprecated. Future versions of the driver will raise an error.\n",
      "  with driver.session() as session:\n"
     ]
    }
   ],
   "source": [
    "# Consulta a la base de datos\n",
    "\n",
    "query = \"\"\"\n",
    "    MATCH (p:Product)\n",
    "    RETURN p.productName AS Nombre, p.unitPrice AS Precio\n",
    "    ORDER BY Precio DESC\n",
    "    LIMIT 10;\n",
    "\"\"\"\n",
    "\n",
    "rows = None\n",
    "\n",
    "try:\n",
    "    with driver.session() as session:\n",
    "        result = session.run(query)\n",
    "        rows = result.data()\n",
    "\n",
    "        print('Nombres de Productos: \\n')\n",
    "        for i in rows:\n",
    "            print(f'Producto: {i['Nombre']} \\nPrecio: ${i['Precio']}')\n",
    "except Exception as e:\n",
    "    print(f'Error: {e}')"
   ]
  },
  {
   "cell_type": "markdown",
   "id": "6d0fa986",
   "metadata": {},
   "source": [
    "#### Conexión con GraphDataScience"
   ]
  },
  {
   "cell_type": "code",
   "execution_count": 30,
   "id": "ce752009",
   "metadata": {},
   "outputs": [
    {
     "name": "stdout",
     "output_type": "stream",
     "text": [
      "2.13.2\n"
     ]
    }
   ],
   "source": [
    "# uri = 'bolt://localhost:7687'\n",
    "# user = 'neo4j' #Es el default\n",
    "# password = 'chofas1973' #Depende de cada DBMS\n",
    "\n",
    "gds = GraphDataScience(uri,auth=(user,password))\n",
    "print(gds.server_version()) # Me va a retornar 2.13.2, la version de GDS que hemos estado usando"
   ]
  },
  {
   "cell_type": "code",
   "execution_count": 35,
   "id": "54037dac",
   "metadata": {},
   "outputs": [
    {
     "data": {
      "text/html": [
       "<div>\n",
       "<style scoped>\n",
       "    .dataframe tbody tr th:only-of-type {\n",
       "        vertical-align: middle;\n",
       "    }\n",
       "\n",
       "    .dataframe tbody tr th {\n",
       "        vertical-align: top;\n",
       "    }\n",
       "\n",
       "    .dataframe thead th {\n",
       "        text-align: right;\n",
       "    }\n",
       "</style>\n",
       "<table border=\"1\" class=\"dataframe\">\n",
       "  <thead>\n",
       "    <tr style=\"text-align: right;\">\n",
       "      <th></th>\n",
       "      <th>Nombre</th>\n",
       "      <th>Precio</th>\n",
       "    </tr>\n",
       "  </thead>\n",
       "  <tbody>\n",
       "    <tr>\n",
       "      <th>0</th>\n",
       "      <td>Côte de Blaye</td>\n",
       "      <td>263.50</td>\n",
       "    </tr>\n",
       "    <tr>\n",
       "      <th>1</th>\n",
       "      <td>Thüringer Rostbratwurst</td>\n",
       "      <td>123.79</td>\n",
       "    </tr>\n",
       "    <tr>\n",
       "      <th>2</th>\n",
       "      <td>Mishi Kobe Niku</td>\n",
       "      <td>97.00</td>\n",
       "    </tr>\n",
       "    <tr>\n",
       "      <th>3</th>\n",
       "      <td>Sir Rodney's Marmalade</td>\n",
       "      <td>81.00</td>\n",
       "    </tr>\n",
       "    <tr>\n",
       "      <th>4</th>\n",
       "      <td>Carnarvon Tigers</td>\n",
       "      <td>62.50</td>\n",
       "    </tr>\n",
       "    <tr>\n",
       "      <th>...</th>\n",
       "      <td>...</td>\n",
       "      <td>...</td>\n",
       "    </tr>\n",
       "    <tr>\n",
       "      <th>72</th>\n",
       "      <td>Tourtière</td>\n",
       "      <td>7.45</td>\n",
       "    </tr>\n",
       "    <tr>\n",
       "      <th>73</th>\n",
       "      <td>Filo Mix</td>\n",
       "      <td>7.00</td>\n",
       "    </tr>\n",
       "    <tr>\n",
       "      <th>74</th>\n",
       "      <td>Konbu</td>\n",
       "      <td>6.00</td>\n",
       "    </tr>\n",
       "    <tr>\n",
       "      <th>75</th>\n",
       "      <td>Guaraná Fantástica</td>\n",
       "      <td>4.50</td>\n",
       "    </tr>\n",
       "    <tr>\n",
       "      <th>76</th>\n",
       "      <td>Geitost</td>\n",
       "      <td>2.50</td>\n",
       "    </tr>\n",
       "  </tbody>\n",
       "</table>\n",
       "<p>77 rows × 2 columns</p>\n",
       "</div>"
      ],
      "text/plain": [
       "                     Nombre  Precio\n",
       "0             Côte de Blaye  263.50\n",
       "1   Thüringer Rostbratwurst  123.79\n",
       "2           Mishi Kobe Niku   97.00\n",
       "3    Sir Rodney's Marmalade   81.00\n",
       "4          Carnarvon Tigers   62.50\n",
       "..                      ...     ...\n",
       "72                Tourtière    7.45\n",
       "73                 Filo Mix    7.00\n",
       "74                    Konbu    6.00\n",
       "75       Guaraná Fantástica    4.50\n",
       "76                  Geitost    2.50\n",
       "\n",
       "[77 rows x 2 columns]"
      ]
     },
     "execution_count": 35,
     "metadata": {},
     "output_type": "execute_result"
    }
   ],
   "source": [
    "# Coolness \n",
    "\n",
    "query = \"\"\"\n",
    "    MATCH (p:Product)\n",
    "    RETURN p.productName AS Nombre, p.unitPrice AS Precio\n",
    "    ORDER BY Precio DESC;\n",
    "\"\"\"\n",
    "\n",
    "final = gds.run_cypher(query)\n",
    "final"
   ]
  },
  {
   "cell_type": "code",
   "execution_count": 37,
   "id": "64802f90",
   "metadata": {},
   "outputs": [
    {
     "data": {
      "text/html": [
       "<div>\n",
       "<style scoped>\n",
       "    .dataframe tbody tr th:only-of-type {\n",
       "        vertical-align: middle;\n",
       "    }\n",
       "\n",
       "    .dataframe tbody tr th {\n",
       "        vertical-align: top;\n",
       "    }\n",
       "\n",
       "    .dataframe thead th {\n",
       "        text-align: right;\n",
       "    }\n",
       "</style>\n",
       "<table border=\"1\" class=\"dataframe\">\n",
       "  <thead>\n",
       "    <tr style=\"text-align: right;\">\n",
       "      <th></th>\n",
       "      <th>nodeProjection</th>\n",
       "      <th>relationshipProjection</th>\n",
       "      <th>graphName</th>\n",
       "      <th>nodeCount</th>\n",
       "      <th>relationshipCount</th>\n",
       "      <th>projectMillis</th>\n",
       "    </tr>\n",
       "  </thead>\n",
       "  <tbody>\n",
       "    <tr>\n",
       "      <th>0</th>\n",
       "      <td>{'Product': {'label': 'Product', 'properties':...</td>\n",
       "      <td>{'BUY_TOGETHER': {'aggregation': 'DEFAULT', 'o...</td>\n",
       "      <td>myGraph5</td>\n",
       "      <td>77</td>\n",
       "      <td>6140</td>\n",
       "      <td>38</td>\n",
       "    </tr>\n",
       "  </tbody>\n",
       "</table>\n",
       "</div>"
      ],
      "text/plain": [
       "                                      nodeProjection  \\\n",
       "0  {'Product': {'label': 'Product', 'properties':...   \n",
       "\n",
       "                              relationshipProjection graphName  nodeCount  \\\n",
       "0  {'BUY_TOGETHER': {'aggregation': 'DEFAULT', 'o...  myGraph5         77   \n",
       "\n",
       "   relationshipCount  projectMillis  \n",
       "0               6140             38  "
      ]
     },
     "execution_count": 37,
     "metadata": {},
     "output_type": "execute_result"
    }
   ],
   "source": [
    "# Crear subgrafo no dirigido\n",
    "\n",
    "gds.run_cypher(\"\"\"\n",
    "    call gds.graph.project(\n",
    "    'myGraph5',\n",
    "    'Product',\n",
    "    {BUY_TOGETHER: {orientation:'UNDIRECTED'}}\n",
    ")\n",
    "\"\"\")"
   ]
  },
  {
   "cell_type": "code",
   "execution_count": 38,
   "id": "b7dcbe87",
   "metadata": {},
   "outputs": [
    {
     "data": {
      "text/html": [
       "<div>\n",
       "<style scoped>\n",
       "    .dataframe tbody tr th:only-of-type {\n",
       "        vertical-align: middle;\n",
       "    }\n",
       "\n",
       "    .dataframe tbody tr th {\n",
       "        vertical-align: top;\n",
       "    }\n",
       "\n",
       "    .dataframe thead th {\n",
       "        text-align: right;\n",
       "    }\n",
       "</style>\n",
       "<table border=\"1\" class=\"dataframe\">\n",
       "  <thead>\n",
       "    <tr style=\"text-align: right;\">\n",
       "      <th></th>\n",
       "      <th>communityCount</th>\n",
       "      <th>modularity</th>\n",
       "      <th>modularities</th>\n",
       "    </tr>\n",
       "  </thead>\n",
       "  <tbody>\n",
       "    <tr>\n",
       "      <th>0</th>\n",
       "      <td>4</td>\n",
       "      <td>0.100507</td>\n",
       "      <td>[0.1005069549809547]</td>\n",
       "    </tr>\n",
       "  </tbody>\n",
       "</table>\n",
       "</div>"
      ],
      "text/plain": [
       "   communityCount  modularity          modularities\n",
       "0               4    0.100507  [0.1005069549809547]"
      ]
     },
     "execution_count": 38,
     "metadata": {},
     "output_type": "execute_result"
    }
   ],
   "source": [
    "# Correr un algoritmo\n",
    "\n",
    "gds.run_cypher(\"\"\"\n",
    "    call gds.louvain.write('myGraph5', {writeProperty: 'louvain_3'})\n",
    "    YIELD communityCount, modularity, modularities;\n",
    "\"\"\")"
   ]
  },
  {
   "cell_type": "code",
   "execution_count": 43,
   "id": "e040061b",
   "metadata": {},
   "outputs": [
    {
     "data": {
      "text/html": [
       "<div>\n",
       "<style scoped>\n",
       "    .dataframe tbody tr th:only-of-type {\n",
       "        vertical-align: middle;\n",
       "    }\n",
       "\n",
       "    .dataframe tbody tr th {\n",
       "        vertical-align: top;\n",
       "    }\n",
       "\n",
       "    .dataframe thead th {\n",
       "        text-align: right;\n",
       "    }\n",
       "</style>\n",
       "<table border=\"1\" class=\"dataframe\">\n",
       "  <thead>\n",
       "    <tr style=\"text-align: right;\">\n",
       "      <th></th>\n",
       "      <th>Producto1</th>\n",
       "      <th>Producto2</th>\n",
       "      <th>Veces</th>\n",
       "      <th>LV1</th>\n",
       "      <th>LV2</th>\n",
       "    </tr>\n",
       "  </thead>\n",
       "  <tbody>\n",
       "    <tr>\n",
       "      <th>0</th>\n",
       "      <td>Sirop d'érable</td>\n",
       "      <td>Sir Rodney's Scones</td>\n",
       "      <td>8</td>\n",
       "      <td>49</td>\n",
       "      <td>49</td>\n",
       "    </tr>\n",
       "    <tr>\n",
       "      <th>1</th>\n",
       "      <td>Pavlova</td>\n",
       "      <td>Gorgonzola Telino</td>\n",
       "      <td>7</td>\n",
       "      <td>65</td>\n",
       "      <td>49</td>\n",
       "    </tr>\n",
       "    <tr>\n",
       "      <th>2</th>\n",
       "      <td>Tarte au sucre</td>\n",
       "      <td>Pavlova</td>\n",
       "      <td>6</td>\n",
       "      <td>36</td>\n",
       "      <td>65</td>\n",
       "    </tr>\n",
       "    <tr>\n",
       "      <th>3</th>\n",
       "      <td>Tourtière</td>\n",
       "      <td>Nord-Ost Matjeshering</td>\n",
       "      <td>6</td>\n",
       "      <td>36</td>\n",
       "      <td>36</td>\n",
       "    </tr>\n",
       "    <tr>\n",
       "      <th>4</th>\n",
       "      <td>Mozzarella di Giovanni</td>\n",
       "      <td>Gorgonzola Telino</td>\n",
       "      <td>6</td>\n",
       "      <td>36</td>\n",
       "      <td>49</td>\n",
       "    </tr>\n",
       "  </tbody>\n",
       "</table>\n",
       "</div>"
      ],
      "text/plain": [
       "                Producto1              Producto2  Veces  LV1  LV2\n",
       "0          Sirop d'érable    Sir Rodney's Scones      8   49   49\n",
       "1                 Pavlova      Gorgonzola Telino      7   65   49\n",
       "2          Tarte au sucre                Pavlova      6   36   65\n",
       "3               Tourtière  Nord-Ost Matjeshering      6   36   36\n",
       "4  Mozzarella di Giovanni      Gorgonzola Telino      6   36   49"
      ]
     },
     "execution_count": 43,
     "metadata": {},
     "output_type": "execute_result"
    }
   ],
   "source": [
    "gds.run_cypher(\"\"\"\n",
    "    MATCH (p:Product)-[r:BUY_TOGETHER]->(op:Product)\n",
    "    WHERE p.productName > op.productName\n",
    "    RETURN p.productName AS Producto1, op.productName AS Producto2, r.quantity AS Veces, p.louvain_3 AS LV1, op.louvain_3 AS LV2\n",
    "    ORDER BY Veces DESC\n",
    "    LIMIT 5; \n",
    "\"\"\")"
   ]
  }
 ],
 "metadata": {
  "kernelspec": {
   "display_name": "Neo",
   "language": "python",
   "name": "python3"
  },
  "language_info": {
   "codemirror_mode": {
    "name": "ipython",
    "version": 3
   },
   "file_extension": ".py",
   "mimetype": "text/x-python",
   "name": "python",
   "nbconvert_exporter": "python",
   "pygments_lexer": "ipython3",
   "version": "3.12.11"
  }
 },
 "nbformat": 4,
 "nbformat_minor": 5
}
