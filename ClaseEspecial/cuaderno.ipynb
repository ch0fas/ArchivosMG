{
 "cells": [
  {
   "cell_type": "markdown",
   "id": "35a5de2c",
   "metadata": {},
   "source": [
    "## Ejemplo Clase Luis\n",
    "### Sofía Maldonado García\n",
    "**02/07/2025**"
   ]
  },
  {
   "cell_type": "code",
   "execution_count": 22,
   "id": "5d29dcdc",
   "metadata": {},
   "outputs": [
    {
     "name": "stdout",
     "output_type": "stream",
     "text": [
      "test\n"
     ]
    }
   ],
   "source": [
    "from neo4j import GraphDatabase\n",
    "from IPython.display import display\n",
    "from yfiles_jupyter_graphs import GraphWidget\n",
    "print('test')"
   ]
  },
  {
   "cell_type": "code",
   "execution_count": 23,
   "id": "66dab2c3",
   "metadata": {},
   "outputs": [
    {
     "name": "stdout",
     "output_type": "stream",
     "text": [
      "Successful Connection\n"
     ]
    }
   ],
   "source": [
    "uri = 'bolt://localhost:7687'\n",
    "user = 'neo4j' #Es el default\n",
    "password = 'chofas1973' #Depende de cada DBMS\n",
    "\n",
    "try:\n",
    "    driver = GraphDatabase.driver(uri,auth=(user,password))\n",
    "    with driver.session() as session:\n",
    "        result = session.run('RETURN 1')\n",
    "\n",
    "        if result.single()[0] == 1:\n",
    "            print('Successful Connection')\n",
    "        else:\n",
    "            print('I will say a homophobic slur')\n",
    "except Exception as e:\n",
    "    print(f'Error: {e}')"
   ]
  },
  {
   "cell_type": "code",
   "execution_count": 13,
   "id": "26c5cac8",
   "metadata": {},
   "outputs": [
    {
     "name": "stdout",
     "output_type": "stream",
     "text": [
      "Database populated successfully\n"
     ]
    }
   ],
   "source": [
    "try:\n",
    "    with driver.session() as session:\n",
    "        # Open FIle\n",
    "        with open('sw_db.txt','r',encoding='utf-8') as f:\n",
    "            query = f.read()\n",
    "        \n",
    "        session.run(query)\n",
    "        print('Database populated successfully')\n",
    "except Exception as e:\n",
    "    print(f'Error: {e}')"
   ]
  },
  {
   "cell_type": "code",
   "execution_count": 18,
   "id": "65295e7c",
   "metadata": {},
   "outputs": [
    {
     "name": "stdout",
     "output_type": "stream",
     "text": [
      "Successful query! Info: [{'n': {'name': 'R2-D2'}, 'r': ({'name': 'R2-D2'}, 'APPEARS_IN', {'name': 'Episode III: Revenge of the Sith'}), 'm': {'name': 'Episode III: Revenge of the Sith'}}, {'n': {'name': 'QUI-GON'}, 'r': ({'name': 'QUI-GON'}, 'APPEARS_IN', {'name': 'Episode III: Revenge of the Sith'}), 'm': {'name': 'Episode III: Revenge of the Sith'}}, {'n': {'name': 'NUTE GUNRAY'}, 'r': ({'name': 'NUTE GUNRAY'}, 'APPEARS_IN', {'name': 'Episode III: Revenge of the Sith'}), 'm': {'name': 'Episode III: Revenge of the Sith'}}, {'n': {'name': 'OBI-WAN'}, 'r': ({'name': 'OBI-WAN'}, 'APPEARS_IN', {'name': 'Episode III: Revenge of the Sith'}), 'm': {'name': 'Episode III: Revenge of the Sith'}}, {'n': {'name': 'EMPEROR'}, 'r': ({'name': 'EMPEROR'}, 'APPEARS_IN', {'name': 'Episode III: Revenge of the Sith'}), 'm': {'name': 'Episode III: Revenge of the Sith'}}, {'n': {'name': 'JAR JAR'}, 'r': ({'name': 'JAR JAR'}, 'APPEARS_IN', {'name': 'Episode III: Revenge of the Sith'}), 'm': {'name': 'Episode III: Revenge of the Sith'}}, {'n': {'name': 'PADME'}, 'r': ({'name': 'PADME'}, 'APPEARS_IN', {'name': 'Episode III: Revenge of the Sith'}), 'm': {'name': 'Episode III: Revenge of the Sith'}}, {'n': {'name': 'ANAKIN'}, 'r': ({'name': 'ANAKIN'}, 'APPEARS_IN', {'name': 'Episode III: Revenge of the Sith'}), 'm': {'name': 'Episode III: Revenge of the Sith'}}, {'n': {'name': 'C-3PO'}, 'r': ({'name': 'C-3PO'}, 'APPEARS_IN', {'name': 'Episode III: Revenge of the Sith'}), 'm': {'name': 'Episode III: Revenge of the Sith'}}, {'n': {'name': 'MACE WINDU'}, 'r': ({'name': 'MACE WINDU'}, 'APPEARS_IN', {'name': 'Episode III: Revenge of the Sith'}), 'm': {'name': 'Episode III: Revenge of the Sith'}}, {'n': {'name': 'YODA'}, 'r': ({'name': 'YODA'}, 'APPEARS_IN', {'name': 'Episode III: Revenge of the Sith'}), 'm': {'name': 'Episode III: Revenge of the Sith'}}, {'n': {'name': 'BAIL ORGANA'}, 'r': ({'name': 'BAIL ORGANA'}, 'APPEARS_IN', {'name': 'Episode III: Revenge of the Sith'}), 'm': {'name': 'Episode III: Revenge of the Sith'}}, {'n': {'name': 'CAPTAIN TYPHO'}, 'r': ({'name': 'CAPTAIN TYPHO'}, 'APPEARS_IN', {'name': 'Episode III: Revenge of the Sith'}), 'm': {'name': 'Episode III: Revenge of the Sith'}}, {'n': {'name': 'COUNT DOOKU'}, 'r': ({'name': 'COUNT DOOKU'}, 'APPEARS_IN', {'name': 'Episode III: Revenge of the Sith'}), 'm': {'name': 'Episode III: Revenge of the Sith'}}, {'n': {'name': 'PLO KOON'}, 'r': ({'name': 'PLO KOON'}, 'APPEARS_IN', {'name': 'Episode III: Revenge of the Sith'}), 'm': {'name': 'Episode III: Revenge of the Sith'}}, {'n': {'name': 'ODD BALL'}, 'r': ({'name': 'ODD BALL'}, 'APPEARS_IN', {'name': 'Episode III: Revenge of the Sith'}), 'm': {'name': 'Episode III: Revenge of the Sith'}}, {'n': {'name': 'GENERAL GRIEVOUS'}, 'r': ({'name': 'GENERAL GRIEVOUS'}, 'APPEARS_IN', {'name': 'Episode III: Revenge of the Sith'}), 'm': {'name': 'Episode III: Revenge of the Sith'}}, {'n': {'name': 'FANG ZAR'}, 'r': ({'name': 'FANG ZAR'}, 'APPEARS_IN', {'name': 'Episode III: Revenge of the Sith'}), 'm': {'name': 'Episode III: Revenge of the Sith'}}, {'n': {'name': 'MON MOTHMA'}, 'r': ({'name': 'MON MOTHMA'}, 'APPEARS_IN', {'name': 'Episode III: Revenge of the Sith'}), 'm': {'name': 'Episode III: Revenge of the Sith'}}, {'n': {'name': 'GIDDEAN DANU'}, 'r': ({'name': 'GIDDEAN DANU'}, 'APPEARS_IN', {'name': 'Episode III: Revenge of the Sith'}), 'm': {'name': 'Episode III: Revenge of the Sith'}}, {'n': {'name': 'CLONE COMMANDER GREE'}, 'r': ({'name': 'CLONE COMMANDER GREE'}, 'APPEARS_IN', {'name': 'Episode III: Revenge of the Sith'}), 'm': {'name': 'Episode III: Revenge of the Sith'}}, {'n': {'name': 'CLONE COMMANDER CODY'}, 'r': ({'name': 'CLONE COMMANDER CODY'}, 'APPEARS_IN', {'name': 'Episode III: Revenge of the Sith'}), 'm': {'name': 'Episode III: Revenge of the Sith'}}, {'n': {'name': 'TION MEDON'}, 'r': ({'name': 'TION MEDON'}, 'APPEARS_IN', {'name': 'Episode III: Revenge of the Sith'}), 'm': {'name': 'Episode III: Revenge of the Sith'}}, {'n': {'name': 'CAPTAIN ANTILLES'}, 'r': ({'name': 'CAPTAIN ANTILLES'}, 'APPEARS_IN', {'name': 'Episode III: Revenge of the Sith'}), 'm': {'name': 'Episode III: Revenge of the Sith'}}, {'n': {'name': 'DARTH VADER'}, 'r': ({'name': 'DARTH VADER'}, 'APPEARS_IN', {'name': 'Episode III: Revenge of the Sith'}), 'm': {'name': 'Episode III: Revenge of the Sith'}}]\n"
     ]
    }
   ],
   "source": [
    "try:\n",
    "    with driver.session(database='starwars') as session:\n",
    "        movies_char = f\"\"\" \n",
    "        MATCH (n)-[r:APPEARS_IN]-(m:Movie {{name:'Episode III: Revenge of the Sith'}})\n",
    "        RETURN n,r,m;\n",
    "\"\"\"\n",
    "        result = session.run(movies_char)\n",
    "        rows = result.data()\n",
    "        print(f'Successful query! Info: {rows}')\n",
    "except Exception as e:\n",
    "    print(f'Error: {e}')"
   ]
  },
  {
   "cell_type": "code",
   "execution_count": 23,
   "id": "93e46130",
   "metadata": {},
   "outputs": [
    {
     "name": "stdout",
     "output_type": "stream",
     "text": [
      "[{'n': {'name': 'R2-D2'}, 'r': ({'name': 'R2-D2'}, 'APPEARS_IN', {'name': 'Episode III: Revenge of the Sith'}), 'm': {'name': 'Episode III: Revenge of the Sith'}}, {'n': {'name': 'QUI-GON'}, 'r': ({'name': 'QUI-GON'}, 'APPEARS_IN', {'name': 'Episode III: Revenge of the Sith'}), 'm': {'name': 'Episode III: Revenge of the Sith'}}, {'n': {'name': 'NUTE GUNRAY'}, 'r': ({'name': 'NUTE GUNRAY'}, 'APPEARS_IN', {'name': 'Episode III: Revenge of the Sith'}), 'm': {'name': 'Episode III: Revenge of the Sith'}}, {'n': {'name': 'OBI-WAN'}, 'r': ({'name': 'OBI-WAN'}, 'APPEARS_IN', {'name': 'Episode III: Revenge of the Sith'}), 'm': {'name': 'Episode III: Revenge of the Sith'}}, {'n': {'name': 'EMPEROR'}, 'r': ({'name': 'EMPEROR'}, 'APPEARS_IN', {'name': 'Episode III: Revenge of the Sith'}), 'm': {'name': 'Episode III: Revenge of the Sith'}}, {'n': {'name': 'JAR JAR'}, 'r': ({'name': 'JAR JAR'}, 'APPEARS_IN', {'name': 'Episode III: Revenge of the Sith'}), 'm': {'name': 'Episode III: Revenge of the Sith'}}, {'n': {'name': 'PADME'}, 'r': ({'name': 'PADME'}, 'APPEARS_IN', {'name': 'Episode III: Revenge of the Sith'}), 'm': {'name': 'Episode III: Revenge of the Sith'}}, {'n': {'name': 'ANAKIN'}, 'r': ({'name': 'ANAKIN'}, 'APPEARS_IN', {'name': 'Episode III: Revenge of the Sith'}), 'm': {'name': 'Episode III: Revenge of the Sith'}}, {'n': {'name': 'C-3PO'}, 'r': ({'name': 'C-3PO'}, 'APPEARS_IN', {'name': 'Episode III: Revenge of the Sith'}), 'm': {'name': 'Episode III: Revenge of the Sith'}}, {'n': {'name': 'MACE WINDU'}, 'r': ({'name': 'MACE WINDU'}, 'APPEARS_IN', {'name': 'Episode III: Revenge of the Sith'}), 'm': {'name': 'Episode III: Revenge of the Sith'}}, {'n': {'name': 'YODA'}, 'r': ({'name': 'YODA'}, 'APPEARS_IN', {'name': 'Episode III: Revenge of the Sith'}), 'm': {'name': 'Episode III: Revenge of the Sith'}}, {'n': {'name': 'BAIL ORGANA'}, 'r': ({'name': 'BAIL ORGANA'}, 'APPEARS_IN', {'name': 'Episode III: Revenge of the Sith'}), 'm': {'name': 'Episode III: Revenge of the Sith'}}, {'n': {'name': 'CAPTAIN TYPHO'}, 'r': ({'name': 'CAPTAIN TYPHO'}, 'APPEARS_IN', {'name': 'Episode III: Revenge of the Sith'}), 'm': {'name': 'Episode III: Revenge of the Sith'}}, {'n': {'name': 'COUNT DOOKU'}, 'r': ({'name': 'COUNT DOOKU'}, 'APPEARS_IN', {'name': 'Episode III: Revenge of the Sith'}), 'm': {'name': 'Episode III: Revenge of the Sith'}}, {'n': {'name': 'PLO KOON'}, 'r': ({'name': 'PLO KOON'}, 'APPEARS_IN', {'name': 'Episode III: Revenge of the Sith'}), 'm': {'name': 'Episode III: Revenge of the Sith'}}, {'n': {'name': 'ODD BALL'}, 'r': ({'name': 'ODD BALL'}, 'APPEARS_IN', {'name': 'Episode III: Revenge of the Sith'}), 'm': {'name': 'Episode III: Revenge of the Sith'}}, {'n': {'name': 'GENERAL GRIEVOUS'}, 'r': ({'name': 'GENERAL GRIEVOUS'}, 'APPEARS_IN', {'name': 'Episode III: Revenge of the Sith'}), 'm': {'name': 'Episode III: Revenge of the Sith'}}, {'n': {'name': 'FANG ZAR'}, 'r': ({'name': 'FANG ZAR'}, 'APPEARS_IN', {'name': 'Episode III: Revenge of the Sith'}), 'm': {'name': 'Episode III: Revenge of the Sith'}}, {'n': {'name': 'MON MOTHMA'}, 'r': ({'name': 'MON MOTHMA'}, 'APPEARS_IN', {'name': 'Episode III: Revenge of the Sith'}), 'm': {'name': 'Episode III: Revenge of the Sith'}}, {'n': {'name': 'GIDDEAN DANU'}, 'r': ({'name': 'GIDDEAN DANU'}, 'APPEARS_IN', {'name': 'Episode III: Revenge of the Sith'}), 'm': {'name': 'Episode III: Revenge of the Sith'}}, {'n': {'name': 'CLONE COMMANDER GREE'}, 'r': ({'name': 'CLONE COMMANDER GREE'}, 'APPEARS_IN', {'name': 'Episode III: Revenge of the Sith'}), 'm': {'name': 'Episode III: Revenge of the Sith'}}, {'n': {'name': 'CLONE COMMANDER CODY'}, 'r': ({'name': 'CLONE COMMANDER CODY'}, 'APPEARS_IN', {'name': 'Episode III: Revenge of the Sith'}), 'm': {'name': 'Episode III: Revenge of the Sith'}}, {'n': {'name': 'TION MEDON'}, 'r': ({'name': 'TION MEDON'}, 'APPEARS_IN', {'name': 'Episode III: Revenge of the Sith'}), 'm': {'name': 'Episode III: Revenge of the Sith'}}, {'n': {'name': 'CAPTAIN ANTILLES'}, 'r': ({'name': 'CAPTAIN ANTILLES'}, 'APPEARS_IN', {'name': 'Episode III: Revenge of the Sith'}), 'm': {'name': 'Episode III: Revenge of the Sith'}}, {'n': {'name': 'DARTH VADER'}, 'r': ({'name': 'DARTH VADER'}, 'APPEARS_IN', {'name': 'Episode III: Revenge of the Sith'}), 'm': {'name': 'Episode III: Revenge of the Sith'}}]\n"
     ]
    },
    {
     "data": {
      "application/vnd.jupyter.widget-view+json": {
       "model_id": "1693c1e62a7e48488ce5d7efa9dbd392",
       "version_major": 2,
       "version_minor": 0
      },
      "text/plain": [
       "GraphWidget(layout=Layout(height='760px', width='100%'))"
      ]
     },
     "metadata": {},
     "output_type": "display_data"
    }
   ],
   "source": [
    "session = driver.session(database='starwars')\n",
    "\n",
    "# try:\n",
    "#     with driver.session(database='starwars') as session:\n",
    "#         movies_char = f\"\"\" \n",
    "#         MATCH (n)-[r:APPEARS_IN]-(m:Movie {{name:'Episode III: Revenge of the Sith'}})\n",
    "#         RETURN n,r,m;\n",
    "# \"\"\"\n",
    "#         result = session.run(movies_char)\n",
    "#         rows = result.data()\n",
    "#         print(f'Successful query! Info: {rows}')\n",
    "# except Exception as e:\n",
    "#     print(f'Error: {e}')\n",
    "\n",
    "movies_char = f\"\"\" \n",
    "         MATCH (n)-[r:APPEARS_IN]->(m:Movie {{name:'Episode III: Revenge of the Sith'}})\n",
    "         RETURN n,r,m;\n",
    "             \"\"\"\n",
    "\n",
    "def showGraph(query: str):\n",
    "    res = session.run(query)\n",
    "    print(res.data())\n",
    "    \n",
    "    #Create Widget\n",
    "    widget = GraphWidget(graph=res.graph())\n",
    "    display(widget)\n",
    "\n",
    "showGraph(movies_char)"
   ]
  }
 ],
 "metadata": {
  "kernelspec": {
   "display_name": "Python 3 (ipykernel)",
   "language": "python",
   "name": "python3"
  },
  "language_info": {
   "codemirror_mode": {
    "name": "ipython",
    "version": 3
   },
   "file_extension": ".py",
   "mimetype": "text/x-python",
   "name": "python",
   "nbconvert_exporter": "python",
   "pygments_lexer": "ipython3",
   "version": "3.12.11"
  }
 },
 "nbformat": 4,
 "nbformat_minor": 5
}
