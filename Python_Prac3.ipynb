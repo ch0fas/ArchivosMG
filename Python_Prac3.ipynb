{
 "cells": [
  {
   "cell_type": "markdown",
   "id": "b94f17db",
   "metadata": {},
   "source": [
    "# Práctica 3 - Código Python\n",
    "### Sofía Maldonado García\n",
    "#### 06/07/2025"
   ]
  },
  {
   "cell_type": "code",
   "execution_count": 5,
   "id": "d71ebe52",
   "metadata": {},
   "outputs": [],
   "source": [
    "# Imports\n",
    "from neo4j import GraphDatabase"
   ]
  },
  {
   "cell_type": "code",
   "execution_count": null,
   "id": "3134558f",
   "metadata": {},
   "outputs": [],
   "source": [
    "# Conexión\n",
    "uri = 'bolt://localhost:7687'\n",
    "user = 'neo4j' #Es el default\n",
    "password = 'chofas1973' #Depende de cada DBMS\n",
    "\n",
    "with GraphDatabase.driver(uri, auth=(user,password)) as driver:\n",
    "    driver.verify_connectivity()\n",
    "\n",
    "# Si el código ejecuta sin errores, significa que la conexión fue exitosa"
   ]
  },
  {
   "cell_type": "code",
   "execution_count": 7,
   "id": "0c0e2629",
   "metadata": {},
   "outputs": [
    {
     "name": "stderr",
     "output_type": "stream",
     "text": [
      "C:\\Users\\pixta\\AppData\\Local\\Temp\\ipykernel_9488\\2103933142.py:6: DeprecationWarning: Using a driver after it has been closed is deprecated. Future versions of the driver will raise an error.\n",
      "  with driver.session() as session:\n"
     ]
    },
    {
     "name": "stdout",
     "output_type": "stream",
     "text": [
      "Error: {code: Neo.ClientError.Procedure.ProcedureCallFailed} {message: Failed to invoke procedure `gds.graph.project`: Caused by: java.lang.IllegalArgumentException: A graph with name 'myNATURALGraph' already exists.}\n",
      "Error: {code: Neo.ClientError.Procedure.ProcedureCallFailed} {message: Failed to invoke procedure `gds.graph.project`: Caused by: java.lang.IllegalArgumentException: A graph with name 'myREVERSEGraph' already exists.}\n",
      "Error: {code: Neo.ClientError.Procedure.ProcedureCallFailed} {message: Failed to invoke procedure `gds.graph.project`: Caused by: java.lang.IllegalArgumentException: A graph with name 'myUNDIRECTEDGraph' already exists.}\n"
     ]
    }
   ],
   "source": [
    "# Creación de subgrafos\n",
    "tipos_subgrafo = ['NATURAL','REVERSE','UNDIRECTED']\n",
    "\n",
    "for i in tipos_subgrafo:\n",
    "    try:\n",
    "        with driver.session() as session:\n",
    "            query = f\"\"\"\n",
    "            CALL gds.graph.project(\n",
    "                'my{i}Graph',\n",
    "                'Producto',\n",
    "                {{COMPRA_CONJUNTA:\n",
    "                {{orientation: '{i}',\n",
    "                    Properties: 'qty'\n",
    "                }}}}\n",
    "            )\n",
    "\"\"\"\n",
    "            result = session.run(query)\n",
    "            data = result.data()\n",
    "            print(data)\n",
    "    except Exception as e:\n",
    "        print(f'Error: {e}')\n",
    "\n"
   ]
  },
  {
   "cell_type": "code",
   "execution_count": 8,
   "id": "1e39c42f",
   "metadata": {},
   "outputs": [
    {
     "name": "stdout",
     "output_type": "stream",
     "text": [
      "[{'writeMillis': 4, 'nodePropertiesWritten': 280, 'ranIterations': 20, 'didConverge': False, 'centralityDistribution': {'min': 0.7681045532226562, 'max': 1.0654907226562498, 'p90': 1.0271415710449219, 'p999': 1.0654869079589844, 'p99': 1.0621681213378906, 'p50': 0.964111328125, 'p75': 0.9989585876464844, 'p95': 1.0441017150878906, 'mean': 0.9612390790666853}, 'postProcessingMillis': 1, 'preProcessingMillis': 0, 'computeMillis': 36, 'configuration': {'writeProperty': 'pageRank', 'jobId': '380c82c8-1877-433b-a64b-6d18764a59d8', 'scaler': 'NONE', 'sourceNodes': [], 'sudo': False, 'maxIterations': 20, 'dampingFactor': 0.85, 'writeToResultStore': False, 'writeConcurrency': 4, 'logProgress': True, 'nodeLabels': ['*'], 'concurrency': 4, 'relationshipTypes': ['*'], 'tolerance': 1e-07}}]\n",
      "[{'nodePropertiesWritten': 280, 'writeMillis': 4, 'centralityDistribution': {'min': 177.0, 'max': 262.00195312499994, 'p90': 251.0, 'p999': 262.0009765625, 'p99': 261.0009765625, 'p50': 233.0, 'p75': 243.0, 'p95': 256.0009765625, 'mean': 232.2357666015625}, 'postProcessingMillis': 1, 'preProcessingMillis': 0, 'computeMillis': 0, 'configuration': {'writeProperty': 'outDegree', 'orientation': 'NATURAL', 'jobId': '738c76a3-edd8-495e-9293-30c3efe571b2', 'logProgress': True, 'nodeLabels': ['*'], 'relationshipTypes': ['*'], 'concurrency': 4, 'sudo': False, 'writeToResultStore': False, 'writeConcurrency': 4}}]\n",
      "[{'nodePropertiesWritten': 280, 'writeMillis': 4, 'centralityDistribution': {'min': 354.0, 'max': 524.0039062499999, 'p90': 502.0, 'p999': 524.001953125, 'p99': 522.001953125, 'p50': 466.0, 'p75': 486.0, 'p95': 512.001953125, 'mean': 464.471533203125}, 'postProcessingMillis': 1, 'preProcessingMillis': 0, 'computeMillis': 0, 'configuration': {'writeProperty': 'degree', 'orientation': 'NATURAL', 'jobId': '38721bcb-f241-449f-b068-33e03fe34d05', 'logProgress': True, 'nodeLabels': ['*'], 'relationshipTypes': ['*'], 'concurrency': 4, 'sudo': False, 'writeToResultStore': False, 'writeConcurrency': 4}}]\n",
      "[{'nodePropertiesWritten': 280, 'writeMillis': 10, 'centralityDistribution': {'min': 177.0, 'max': 262.00195312499994, 'p90': 251.0, 'p999': 262.0009765625, 'p99': 261.0009765625, 'p50': 233.0, 'p75': 243.0, 'p95': 256.0009765625, 'mean': 232.2357666015625}, 'postProcessingMillis': 1, 'preProcessingMillis': 0, 'computeMillis': 0, 'configuration': {'writeProperty': 'inDegree', 'orientation': 'NATURAL', 'jobId': '3e6c966b-571f-4b04-84da-0b772fec172b', 'logProgress': True, 'nodeLabels': ['*'], 'relationshipTypes': ['*'], 'concurrency': 4, 'sudo': False, 'writeToResultStore': False, 'writeConcurrency': 4}}]\n"
     ]
    },
    {
     "name": "stderr",
     "output_type": "stream",
     "text": [
      "C:\\Users\\pixta\\AppData\\Local\\Temp\\ipykernel_9488\\1651613895.py:7: DeprecationWarning: Using a driver after it has been closed is deprecated. Future versions of the driver will raise an error.\n",
      "  with driver.session() as session:\n"
     ]
    },
    {
     "name": "stdout",
     "output_type": "stream",
     "text": [
      "[{'nodePropertiesWritten': 280, 'writeMillis': 5, 'centralityDistribution': {'min': 26.260498046875, 'max': 61.15942382812499, 'p90': 55.9066162109375, 'p999': 61.1593017578125, 'p99': 60.4884033203125, 'p50': 47.1170654296875, 'p75': 51.6954345703125, 'p95': 57.3170166015625, 'mean': 46.764285278320315}, 'postProcessingMillis': 1, 'preProcessingMillis': 0, 'computeMillis': 131, 'configuration': {'writeProperty': 'betweenness', 'jobId': 'b4adbc3d-ae20-45dc-90ec-35b2c2537f5c', 'logProgress': True, 'nodeLabels': ['*'], 'relationshipTypes': ['*'], 'concurrency': 4, 'sudo': False, 'writeToResultStore': False, 'writeConcurrency': 4}}]\n",
      "[{'nodePropertiesWritten': 280, 'writeMillis': 4, 'centralityDistribution': {'min': 0.7322807312011719, 'max': 0.9425697326660155, 'p90': 0.9087944030761719, 'p999': 0.94256591796875, 'p99': 0.93939208984375, 'p50': 0.85845947265625, 'p75': 0.885711669921875, 'p95': 0.9238395690917969, 'mean': 0.858265917641776}, 'postProcessingMillis': 1, 'preProcessingMillis': 0, 'computeMillis': 6, 'configuration': {'writeProperty': 'closeness', 'useWassermanFaust': False, 'jobId': '3969ebda-c839-44d7-8d43-41ebe7a6222b', 'logProgress': True, 'nodeLabels': ['*'], 'relationshipTypes': ['*'], 'concurrency': 4, 'sudo': False, 'writeToResultStore': False, 'writeConcurrency': 4}}]\n",
      "[{'writeMillis': 4, 'nodePropertiesWritten': 280, 'modularity': 0.01911653566548463, 'modularities': [0.01911653566548463], 'ranLevels': 1, 'communityCount': 4, 'communityDistribution': {'min': 60, 'p5': 60, 'max': 86, 'p999': 86, 'p99': 86, 'p1': 60, 'p10': 60, 'p90': 86, 'p50': 64, 'p25': 60, 'p75': 70, 'p95': 86, 'mean': 70.0}, 'postProcessingMillis': 1, 'preProcessingMillis': 0, 'computeMillis': 1282, 'configuration': {'writeProperty': 'louvain', 'jobId': '130631cd-06ea-49a8-9912-859a842199aa', 'sudo': False, 'maxIterations': 10, 'maxLevels': 10, 'seedProperty': None, 'writeToResultStore': False, 'writeConcurrency': 4, 'logProgress': True, 'nodeLabels': ['*'], 'concurrency': 4, 'includeIntermediateCommunities': False, 'relationshipTypes': ['*'], 'tolerance': 0.0001, 'consecutiveIds': False}}]\n",
      "[{'writeMillis': 3, 'nodePropertiesWritten': 280, 'ranIterations': 2, 'didConverge': True, 'communityCount': 1, 'communityDistribution': {'min': 280, 'p5': 280, 'max': 280, 'p999': 280, 'p99': 280, 'p1': 280, 'p10': 280, 'p90': 280, 'p50': 280, 'p25': 280, 'p75': 280, 'p95': 280, 'mean': 280.0}, 'postProcessingMillis': 1, 'preProcessingMillis': 0, 'computeMillis': 9, 'configuration': {'writeProperty': 'labelPropagation', 'jobId': '9f84f59b-58de-43a5-a678-3d41d4aaeeab', 'sudo': False, 'maxIterations': 10, 'seedProperty': None, 'writeToResultStore': False, 'writeConcurrency': 4, 'nodeWeightProperty': None, 'logProgress': True, 'nodeLabels': ['*'], 'concurrency': 4, 'relationshipTypes': ['*'], 'consecutiveIds': False}}]\n",
      "[{'preProcessingMillis': 0, 'computeMillis': 3, 'writeMillis': 5, 'nodeCount': 280, 'colorCount': 110, 'ranIterations': 3, 'didConverge': True, 'configuration': {'writeProperty': 'k1coloring', 'jobId': '45d6eaeb-8de8-49e5-b7e1-b30874fdd1cc', 'logProgress': True, 'nodeLabels': ['*'], 'relationshipTypes': ['*'], 'concurrency': 4, 'batchSize': 10000, 'sudo': False, 'maxIterations': 10, 'writeToResultStore': False, 'writeConcurrency': 4}}]\n",
      "[{'componentCount': 1, 'componentDistribution': {'min': 280, 'p5': 280, 'max': 280, 'p999': 280, 'p99': 280, 'p1': 280, 'p10': 280, 'p90': 280, 'p50': 280, 'p25': 280, 'p75': 280, 'p95': 280, 'mean': 280.0}, 'nodePropertiesWritten': 280, 'writeMillis': 4, 'postProcessingMillis': 1, 'preProcessingMillis': 0, 'computeMillis': 4, 'configuration': {'writeProperty': 'scc', 'jobId': '30c61d94-a725-4eb8-b609-99b1eb472d23', 'logProgress': True, 'nodeLabels': ['*'], 'relationshipTypes': ['*'], 'concurrency': 4, 'consecutiveIds': False, 'sudo': False, 'writeToResultStore': False, 'writeConcurrency': 4}}]\n",
      "[{'writeMillis': 6, 'nodePropertiesWritten': 280, 'componentCount': 1, 'componentDistribution': {'min': 280, 'p5': 280, 'max': 280, 'p999': 280, 'p99': 280, 'p1': 280, 'p10': 280, 'p90': 280, 'p50': 280, 'p25': 280, 'p75': 280, 'p95': 280, 'mean': 280.0}, 'postProcessingMillis': 1, 'preProcessingMillis': 0, 'computeMillis': 0, 'configuration': {'writeProperty': 'wcc', 'jobId': 'ae2f58b5-261c-4f77-a840-db40686986f3', 'logProgress': True, 'nodeLabels': ['*'], 'concurrency': 4, 'relationshipTypes': ['*'], 'consecutiveIds': False, 'sudo': False, 'seedProperty': None, 'writeToResultStore': False, 'writeConcurrency': 4, 'threshold': 0.0}}]\n",
      "[{'writeMillis': 4, 'nodePropertiesWritten': 280, 'globalTriangleCount': 2111036, 'nodeCount': 280, 'postProcessingMillis': 0, 'preProcessingMillis': 0, 'computeMillis': 182, 'configuration': {'writeProperty': 'triangleCount', 'jobId': 'b8772bea-d82d-4500-9a2b-ff6890eeb498', 'logProgress': True, 'nodeLabels': ['*'], 'relationshipTypes': ['*'], 'concurrency': 4, 'sudo': False, 'writeToResultStore': False, 'writeConcurrency': 4, 'maxDegree': 9223372036854775807}}]\n"
     ]
    }
   ],
   "source": [
    "# # Código para implementar los algoritmos de centralidad\n",
    "\n",
    "algoritmos = ['pageRank','degree','betweenness','closeness','louvain','labelPropagation','k1coloring','scc','wcc','triangleCount']\n",
    "\n",
    "for i in algoritmos:\n",
    "    try:\n",
    "        with driver.session() as session:\n",
    "            if i in ['pageRank','betweenness','closeness','louvain','labelPropagation','k1coloring','scc']:\n",
    "                query_natural = f\"\"\"\n",
    "                CALL gds.{i}.write('myNATURALGraph', {{writeProperty:'{i}'}})\n",
    "                \"\"\"\n",
    "\n",
    "                result_natural = session.run(query_natural)\n",
    "                data = result_natural.data()\n",
    "                print(data)\n",
    "            elif i in ['wcc','triangleCount']:\n",
    "                query_undirected = f\"\"\"\n",
    "                CALL gds.{i}.write('myUNDIRECTEDGraph', {{writeProperty:'{i}'}})\n",
    "                \"\"\"\n",
    "\n",
    "                result_undirected = session.run(query_undirected)\n",
    "                data = result_undirected.data()\n",
    "                print(data)\n",
    "            elif i == 'degree':\n",
    "                query_natural = f\"\"\"\n",
    "                CALL gds.{i}.write('myNATURALGraph', {{writeProperty:'outDegree'}})\n",
    "                \"\"\"\n",
    "\n",
    "                result_natural = session.run(query_natural)\n",
    "                data_natural = result_natural.data()\n",
    "                print(data_natural)\n",
    "\n",
    "                query_undirected = f\"\"\"\n",
    "                CALL gds.{i}.write('myUNDIRECTEDGraph', {{writeProperty:'degree'}})\n",
    "                \"\"\"\n",
    "\n",
    "                result_undirected = session.run(query_undirected)\n",
    "                data_undirected = result_undirected.data()\n",
    "                print(data_undirected)\n",
    "\n",
    "                query_reverse = f\"\"\"\n",
    "                CALL gds.{i}.write('myREVERSEGraph', {{writeProperty:'inDegree'}})\n",
    "                \"\"\"\n",
    "\n",
    "                result_reverse = session.run(query_reverse)\n",
    "                data_reverse = result_reverse.data()\n",
    "                print(data_reverse)\n",
    "    except Exception as e:\n",
    "        print(f'Error: {e}') "
   ]
  }
 ],
 "metadata": {
  "kernelspec": {
   "display_name": "Neo",
   "language": "python",
   "name": "python3"
  },
  "language_info": {
   "codemirror_mode": {
    "name": "ipython",
    "version": 3
   },
   "file_extension": ".py",
   "mimetype": "text/x-python",
   "name": "python",
   "nbconvert_exporter": "python",
   "pygments_lexer": "ipython3",
   "version": "3.11.13"
  }
 },
 "nbformat": 4,
 "nbformat_minor": 5
}
